{
 "cells": [
  {
   "cell_type": "code",
   "execution_count": 7,
   "metadata": {},
   "outputs": [
    {
     "data": {
      "text/html": [
       "\n",
       "                <div id=\"midiPlayerDiv887\"></div>\n",
       "                <link rel=\"stylesheet\" href=\"https://cuthbertLab.github.io/music21j/css/m21.css\">\n",
       "                \n",
       "                <script>\n",
       "                require.config({\n",
       "                    paths: {\n",
       "                        'music21': 'https://cuthbertLab.github.io/music21j/releases/music21.debug',\n",
       "                    }\n",
       "                });\n",
       "                require(['music21'], function(music21) {\n",
       "                    mp = new music21.miditools.MidiPlayer();\n",
       "                    mp.addPlayer(\"#midiPlayerDiv887\");\n",
       "                    mp.base64Load(\"data:audio/midi;base64,TVRoZAAAAAYAAQACBABNVHJrAAAAFAD/UQMHoSAA/1gEBAIYCIgA/y8ATVRyawAAAGgA/wMAAOAAQIgAkEVahACARQAAkEhahACASAAAkEhaggCASAAAkEdaggCARwAAkEVahACARQAAkEdaggCARwAAkEpaggCASgAAkEpaggCASgAAkEdaggCARwAAkEpaiACASgCIAP8vAA==\");\n",
       "                });\n",
       "                </script>"
      ],
      "text/plain": [
       "<IPython.core.display.HTML object>"
      ]
     },
     "metadata": {},
     "output_type": "display_data"
    },
    {
     "data": {
      "text/plain": [
       "WindowsPath('c:/Users/yingj/Desktop/数据/a.pdf')"
      ]
     },
     "execution_count": 7,
     "metadata": {},
     "output_type": "execute_result"
    }
   ],
   "source": [
    "import music21\n",
    "from music21 import note\n",
    "from music21 import stream\n",
    "from music21 import *\n",
    "\n",
    "n1=note.Note(\"A4\")\n",
    "n1.duration.quarterLength=0.5\n",
    "\n",
    "n2=note.Note(\"C5\")\n",
    "n2.duration.quarterLength=0.5\n",
    "\n",
    "n3=note.Note(\"C5\")\n",
    "n3.duration.quarterLength=0.25\n",
    "\n",
    "n4=note.Note(\"B4\")\n",
    "n4.duration.quarterLength=0.25\n",
    "\n",
    "n5=note.Note(\"A4\")\n",
    "n5.duration.quarterLength=0.5\n",
    "\n",
    "n6=note.Note(\"B4\")\n",
    "n6.duration.quarterLength=0.25\n",
    "\n",
    "n7=note.Note(\"D5\")\n",
    "n7.duration.quarterLength=0.25\n",
    "\n",
    "n8=note.Note(\"D5\")\n",
    "n8.duration.quarterLength=0.25\n",
    "\n",
    "n9=note.Note(\"B4\")\n",
    "n9.duration.quarterLength=0.25\n",
    "\n",
    "n10=note.Note(\"D5\")\n",
    "n10.duration.quarterLength=1.0\n",
    "\n",
    "score=stream.Stream()\n",
    "score.append([n1,n2,n3,n4,n5,n6,n7,n8,n9,n10])\n",
    "score.show(\"midi\")\n",
    "score.write(\"musicxml.pdf\",\"a\")\n",
    "\n"
   ]
  },
  {
   "cell_type": "code",
   "execution_count": 2,
   "metadata": {},
   "outputs": [
    {
     "name": "stdout",
     "output_type": "stream",
     "text": [
      "directoryScratch\n",
      "lilypondPath\n",
      "lilypondVersion\n",
      "lilypondFormat\n",
      "lilypondBackend\n",
      "musicxmlPath\n",
      "midiPath\n",
      "graphicsPath\n",
      "vectorPath\n",
      "pdfPath\n",
      "braillePath\n",
      "musescoreDirectPNGPath\n",
      "showFormat\n",
      "writeFormat\n",
      "ipythonShowFormat\n",
      "autoDownload\n",
      "debug\n",
      "warnings\n",
      "localCorpusSettings\n",
      "localCorporaSettings\n",
      "manualCoreCorpusPath\n",
      "localCorpusPath\n"
     ]
    }
   ],
   "source": [
    "env=environment.Environment()\n",
    "for key in env.keys():\n",
    "    print(key)\n"
   ]
  },
  {
   "cell_type": "code",
   "execution_count": 3,
   "metadata": {},
   "outputs": [],
   "source": [
    "env=environment.Environment()\n",
    "env[\"lilypondPath\"]= \"D:/Program Files/lilypond-2.23.1-mingw-x86_64/lilypond-2.24.1/bin/lilypond.exe\"\n",
    "env['musescoreDirectPNGPath'] = \"D:/Program Files/bin/MuseScore3.exe\"\n",
    "env['musicxmlPath'] = \"D:/Program Files/bin/MuseScore3.exe\"\n",
    "fp = score.write(\"lily.pdf\", fp='a')\n",
    "\n",
    "env['musescoreDirectPNGPath'] = \"D:/Program Files/bin/MuseScore3.exe\"\n",
    "env['musicxmlPath'] = \"D:/Program Files/bin/MuseScore3.exe\""
   ]
  },
  {
   "cell_type": "code",
   "execution_count": 4,
   "metadata": {},
   "outputs": [
    {
     "data": {
      "image/png": "[encoded data removed]",
      "text/plain": [
       "<IPython.core.display.Image object>"
      ]
     },
     "metadata": {
      "image/png": {
       "height": 78,
       "width": 334
      }
     },
     "output_type": "display_data"
    }
   ],
   "source": [
    "score.show()"
   ]
  }
 ],
 "metadata": {
  "kernelspec": {
   "display_name": "Python 3",
   "language": "python",
   "name": "python3"
  },
  "language_info": {
   "codemirror_mode": {
    "name": "ipython",
    "version": 3
   },
   "file_extension": ".py",
   "mimetype": "text/x-python",
   "name": "python",
   "nbconvert_exporter": "python",
   "pygments_lexer": "ipython3",
   "version": "3.11.3"
  },
  "orig_nbformat": 4
 },
 "nbformat": 4,
 "nbformat_minor": 2
}
